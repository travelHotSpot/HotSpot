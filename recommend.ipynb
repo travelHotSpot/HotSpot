{
  "nbformat": 4,
  "nbformat_minor": 0,
  "metadata": {
    "colab": {
      "provenance": [],
      "collapsed_sections": [],
      "toc_visible": true,
      "authorship_tag": "ABX9TyNJdNkF6NmGrYWoWlLzCdz1",
      "include_colab_link": true
    },
    "kernelspec": {
      "name": "python3",
      "display_name": "Python 3"
    },
    "language_info": {
      "name": "python"
    }
  },
  "cells": [
    {
      "cell_type": "markdown",
      "metadata": {
        "id": "view-in-github",
        "colab_type": "text"
      },
      "source": [
        "<a href=\"https://colab.research.google.com/github/travelHotSpot/HotSpot/blob/Seongho/recommend.ipynb\" target=\"_parent\"><img src=\"https://colab.research.google.com/assets/colab-badge.svg\" alt=\"Open In Colab\"/></a>"
      ]
    },
    {
      "cell_type": "markdown",
      "source": [
        "plt에서 한글을 쓰기 위해 Nanum 설치"
      ],
      "metadata": {
        "id": "SdLSAWHIZvup"
      }
    },
    {
      "cell_type": "code",
      "source": [
        "%matplotlib inline  \n",
        "\n",
        "import matplotlib as mpl \n",
        "import matplotlib.pyplot as plt \n",
        "import matplotlib.font_manager as fm  \n",
        "\n",
        "!apt-get update -qq\n",
        "!apt-get install fonts-nanum* -qq\n",
        "\n",
        "path = '/usr/share/fonts/truetype/nanum/NanumBarunGothic.ttf' \n",
        "font_name = fm.FontProperties(fname=path, size=10).get_name()\n",
        "print(font_name)\n",
        "plt.rc('font', family=font_name)\n",
        "\n",
        "fm._rebuild()\n",
        "mpl.rcParams['axes.unicode_minus'] = False\n",
        "#런타임 다시 실행"
      ],
      "metadata": {
        "colab": {
          "base_uri": "https://localhost:8080/"
        },
        "id": "2N-1KKBEjNc0",
        "outputId": "b31c1107-99ba-4779-ae7d-20ffddb50cf8"
      },
      "execution_count": null,
      "outputs": [
        {
          "output_type": "stream",
          "name": "stdout",
          "text": [
            "NanumBarunGothic\n"
          ]
        }
      ]
    },
    {
      "cell_type": "code",
      "source": [
        "%%bash\n",
        "apt-get update\n",
        "apt-get install g++ openjdk-8-jdk python-dev python3-dev\n",
        "pip3 install JPype1\n",
        "pip3 install konlpy"
      ],
      "metadata": {
        "colab": {
          "base_uri": "https://localhost:8080/"
        },
        "id": "85-qeZZDi9wv",
        "outputId": "e4511041-b2ba-44ce-b8d6-acb16d04e38c"
      },
      "execution_count": null,
      "outputs": [
        {
          "output_type": "stream",
          "name": "stdout",
          "text": [
            "Hit:1 https://cloud.r-project.org/bin/linux/ubuntu bionic-cran40/ InRelease\n",
            "Ign:2 https://developer.download.nvidia.com/compute/machine-learning/repos/ubuntu1804/x86_64  InRelease\n",
            "Hit:3 https://developer.download.nvidia.com/compute/cuda/repos/ubuntu1804/x86_64  InRelease\n",
            "Hit:4 https://developer.download.nvidia.com/compute/machine-learning/repos/ubuntu1804/x86_64  Release\n",
            "Hit:5 http://archive.ubuntu.com/ubuntu bionic InRelease\n",
            "Hit:6 http://security.ubuntu.com/ubuntu bionic-security InRelease\n",
            "Hit:7 http://archive.ubuntu.com/ubuntu bionic-updates InRelease\n",
            "Hit:8 http://ppa.launchpad.net/c2d4u.team/c2d4u4.0+/ubuntu bionic InRelease\n",
            "Hit:9 http://archive.ubuntu.com/ubuntu bionic-backports InRelease\n",
            "Hit:10 http://ppa.launchpad.net/cran/libgit2/ubuntu bionic InRelease\n",
            "Hit:11 http://ppa.launchpad.net/deadsnakes/ppa/ubuntu bionic InRelease\n",
            "Hit:12 http://ppa.launchpad.net/graphics-drivers/ppa/ubuntu bionic InRelease\n",
            "Reading package lists...\n",
            "Reading package lists...\n",
            "Building dependency tree...\n",
            "Reading state information...\n",
            "python-dev is already the newest version (2.7.15~rc1-1).\n",
            "g++ is already the newest version (4:7.4.0-1ubuntu2.3).\n",
            "python3-dev is already the newest version (3.6.7-1~18.04).\n",
            "openjdk-8-jdk is already the newest version (8u342-b07-0ubuntu1~18.04).\n",
            "The following package was automatically installed and is no longer required:\n",
            "  libnvidia-common-460\n",
            "Use 'apt autoremove' to remove it.\n",
            "0 upgraded, 0 newly installed, 0 to remove and 23 not upgraded.\n",
            "Looking in indexes: https://pypi.org/simple, https://us-python.pkg.dev/colab-wheels/public/simple/\n",
            "Requirement already satisfied: JPype1 in /usr/local/lib/python3.7/dist-packages (1.4.0)\n",
            "Requirement already satisfied: typing-extensions in /usr/local/lib/python3.7/dist-packages (from JPype1) (4.1.1)\n",
            "Looking in indexes: https://pypi.org/simple, https://us-python.pkg.dev/colab-wheels/public/simple/\n",
            "Requirement already satisfied: konlpy in /usr/local/lib/python3.7/dist-packages (0.6.0)\n",
            "Requirement already satisfied: numpy>=1.6 in /usr/local/lib/python3.7/dist-packages (from konlpy) (1.21.6)\n",
            "Requirement already satisfied: lxml>=4.1.0 in /usr/local/lib/python3.7/dist-packages (from konlpy) (4.9.1)\n",
            "Requirement already satisfied: JPype1>=0.7.0 in /usr/local/lib/python3.7/dist-packages (from konlpy) (1.4.0)\n",
            "Requirement already satisfied: typing-extensions in /usr/local/lib/python3.7/dist-packages (from JPype1>=0.7.0->konlpy) (4.1.1)\n"
          ]
        }
      ]
    },
    {
      "cell_type": "markdown",
      "source": [
        "필요 라이브러리"
      ],
      "metadata": {
        "id": "WAThYYWmZzmZ"
      }
    },
    {
      "cell_type": "code",
      "execution_count": null,
      "metadata": {
        "id": "zgWghpCYVYnE"
      },
      "outputs": [],
      "source": [
        "import tensorflow as tf\n",
        "from sklearn.datasets import load_iris\n",
        "import pandas as pd\n",
        "import numpy as np\n",
        "import konlpy\n",
        "from konlpy.tag import Okt\n",
        "from tensorflow.keras.preprocessing.sequence import pad_sequences\n",
        "from collections import Counter\n",
        "import matplotlib.pyplot as plt\n",
        "import matplotlib as mpl \n",
        "import matplotlib.pyplot as plt \n",
        "import matplotlib.font_manager as fm  "
      ]
    },
    {
      "cell_type": "markdown",
      "source": [
        "구글 드라이브와 연동"
      ],
      "metadata": {
        "id": "qzjYxB5MZ1X9"
      }
    },
    {
      "cell_type": "code",
      "source": [
        "from google.colab import drive\n",
        "drive.mount('/content/drive')"
      ],
      "metadata": {
        "colab": {
          "base_uri": "https://localhost:8080/"
        },
        "id": "AyQnVWIHV2oX",
        "outputId": "b31671a2-62a3-47ea-8241-3ee63f39b171"
      },
      "execution_count": null,
      "outputs": [
        {
          "output_type": "stream",
          "name": "stdout",
          "text": [
            "Drive already mounted at /content/drive; to attempt to forcibly remount, call drive.mount(\"/content/drive\", force_remount=True).\n"
          ]
        }
      ]
    },
    {
      "cell_type": "markdown",
      "source": [
        "이전에 학습시킨 모델을 가져오고 단어 정보도 가져온다."
      ],
      "metadata": {
        "id": "-N8zXj1uZ6XC"
      }
    },
    {
      "cell_type": "code",
      "source": [
        "model = tf.keras.models.load_model('/content/drive/MyDrive/model/best-lstm-model4.h5')\n",
        "word = pd.read_csv('/content/drive/MyDrive/data/word.csv')\n",
        "most_words_500_dic ={word['word'][i-2]:i for i in range(2,500)}"
      ],
      "metadata": {
        "id": "wI11TsG_l0qG"
      },
      "execution_count": null,
      "outputs": []
    },
    {
      "cell_type": "markdown",
      "source": [
        "comment정보를 다 들고 온다."
      ],
      "metadata": {
        "id": "Ju8lIJr7akz1"
      }
    },
    {
      "cell_type": "code",
      "source": [
        "food_comment = pd.read_csv('/content/drive/MyDrive/data/food_comment.csv')\n",
        "travel_comment = pd.read_csv('/content/drive/MyDrive/data/comment_info.csv')"
      ],
      "metadata": {
        "id": "O7Ylq8AivqXR"
      },
      "execution_count": null,
      "outputs": []
    },
    {
      "cell_type": "markdown",
      "source": [
        "현재 날짜를 기준으로 최근 3개월 간의 데이터를 수집하기 위해 날짜 범위를 구한다."
      ],
      "metadata": {
        "id": "F2s0ATvGasUb"
      }
    },
    {
      "cell_type": "code",
      "source": [
        "from dateutil.parser import parse\n",
        "from dateutil.relativedelta import relativedelta\n",
        "import datetime as dt\n",
        "\n",
        "now = dt.datetime.now()\n",
        "\n",
        "startMonth = now.month -3\n",
        "endMonth = now.month\n",
        "year = str(now.year)\n",
        "\n",
        "\n",
        "if startMonth < 10:\n",
        "  startMonth = '0'+ str(startMonth)\n",
        "\n",
        "\n",
        "if endMonth < 10:\n",
        "  endMonth = '0'+ str(endMonth)\n",
        "  "
      ],
      "metadata": {
        "id": "QFkJArh43XcM"
      },
      "execution_count": null,
      "outputs": []
    },
    {
      "cell_type": "markdown",
      "source": [
        "데이터를 표시하기 위해 미리 plt 설정을 해준다."
      ],
      "metadata": {
        "id": "zuZcE6BwazQL"
      }
    },
    {
      "cell_type": "code",
      "source": [
        "from collections import Counter\n",
        "plt.gcf().subplots_adjust(bottom=0.15)\n",
        "plt.tight_layout()\n",
        "from matplotlib import rcParams\n",
        "rcParams.update({'figure.autolayout': True})\n",
        "from matplotlib import *\n",
        "plt.rc('font', size=5)        # 기본 폰트 크기\n",
        "plt.rc('axes', labelsize=10)   # x,y축 label 폰트 크기\n",
        "plt.rc('xtick', labelsize=10)  # x축 눈금 폰트 크기 \n",
        "plt.rc('ytick', labelsize=10)  # y축 눈금 폰트 크기\n",
        "plt.rc('legend', fontsize=5)  # 범례 폰트 크기\n",
        "plt.rc('figure', titlesize=5) "
      ],
      "metadata": {
        "colab": {
          "base_uri": "https://localhost:8080/",
          "height": 34
        },
        "id": "I61e2OGPbXh3",
        "outputId": "97b81ce1-e9a8-4661-c6ea-7ffbb7345f1b"
      },
      "execution_count": null,
      "outputs": [
        {
          "output_type": "display_data",
          "data": {
            "text/plain": [
              "<Figure size 432x288 with 0 Axes>"
            ]
          },
          "metadata": {}
        }
      ]
    },
    {
      "cell_type": "markdown",
      "source": [
        "음식점과 관광지에서 3개월간 달린 댓글을 모음"
      ],
      "metadata": {
        "id": "mHsbUjfFckoq"
      }
    },
    {
      "cell_type": "code",
      "source": [
        "food_datelist = food_comment['created_at'].to_list()\n",
        "food_idx = []\n",
        "food_notNullidx = food_comment[pd.notnull(food_comment['comment'])].index\n",
        "for i in range(len(food_datelist)):\n",
        "  date = food_datelist[i].split('.')\n",
        "  if date[0] == year and  startMonth <= date[1] <= endMonth and i in food_notNullidx:\n",
        "    food_idx.append(i)\n",
        "print(startMonth+'월에서 '+endMonth+'월까지 댓글 개수 : {}'.format(len(food_idx)))\n",
        "\n",
        "plt.xticks(rotation=60)\n",
        "place_count = Counter(food_comment['place_name'][food_idx])\n",
        "plotList = place_count.most_common()\n",
        "x = []\n",
        "y = []\n",
        "for i in range(10):\n",
        "  x.append(plotList[i][0])\n",
        "  y.append(plotList[i][1])\n",
        "plt.plot(x,y)\n",
        "plt.xlabel('장소')\n",
        "plt.ylabel('검색수')\n",
        "plt.title('음식점')\n",
        "plt.show()\n",
        "\n",
        "\n",
        "travel_datelist = travel_comment['created_at'].to_list()\n",
        "travel_idx = []\n",
        "travel_notNullidx = travel_comment[pd.notnull(travel_comment['comment'])].index\n",
        "for i in range(len(travel_datelist)):\n",
        "  date = travel_datelist[i].split('.')\n",
        "  if date[0] == year and  startMonth <= date[1] <= endMonth and i in travel_notNullidx:\n",
        "    travel_idx.append(i)\n",
        "print(startMonth+'월에서 '+endMonth+'월까지 댓글 개수 : {}'.format(len(travel_idx)))\n",
        "plt.xticks(rotation=60)\n",
        "\n",
        "travel_count = Counter(travel_comment['place_name'][travel_idx])\n",
        "plotList = travel_count.most_common()\n",
        "x = []\n",
        "y = []\n",
        "for i in range(10):\n",
        "  x.append(plotList[i][0])\n",
        "  y.append(plotList[i][1])\n",
        "plt.plot(x,y)\n",
        "plt.xlabel('장소')\n",
        "plt.ylabel('검색수')\n",
        "plt.title('관광지')\n",
        "plt.show()"
      ],
      "metadata": {
        "colab": {
          "base_uri": "https://localhost:8080/",
          "height": 634
        },
        "id": "lxD2Im_vvp48",
        "outputId": "f7484dfb-34ee-41d4-ea0e-9f0630f7b282"
      },
      "execution_count": null,
      "outputs": [
        {
          "output_type": "stream",
          "name": "stdout",
          "text": [
            "06월에서 09월까지 댓글 개수 : 14620\n"
          ]
        },
        {
          "output_type": "display_data",
          "data": {
            "text/plain": [
              "<Figure size 432x288 with 1 Axes>"
            ],
            "image/png": "[encoded data removed]"
          },
          "metadata": {
            "needs_background": "light"
          }
        },
        {
          "output_type": "stream",
          "name": "stdout",
          "text": [
            "06월에서 09월까지 댓글 개수 : 306\n"
          ]
        },
        {
          "output_type": "display_data",
          "data": {
            "text/plain": [
              "<Figure size 432x288 with 1 Axes>"
            ],
            "image/png": "[encoded data removed]"
          },
          "metadata": {
            "needs_background": "light"
          }
        }
      ]
    },
    {
      "cell_type": "markdown",
      "source": [
        "단어 500개를 가지고 입력된 문자열을 토큰화 시켜주는 함수를 만든다."
      ],
      "metadata": {
        "id": "19zv52qBcTS_"
      }
    },
    {
      "cell_type": "code",
      "source": [
        "from collections import deque\n",
        "from tensorflow.keras.preprocessing.sequence import pad_sequences\n",
        "\n",
        "def tokenize(inputList, most_words_500_dic):\n",
        "  result = [] \n",
        "  okt = Okt()\n",
        "  for i in range(len(inputList)):\n",
        "    temp = []\n",
        "    words = okt.nouns(inputList[i])\n",
        "    for word in words:\n",
        "      if word in most_words_500_dic:\n",
        "        temp.append(most_words_500_dic[str(word)])\n",
        "      else:\n",
        "        temp.append(1)\n",
        "    result.append(temp)\n",
        "\n",
        "  result = pad_sequences(result, maxlen=100)  \n",
        "  return result"
      ],
      "metadata": {
        "id": "Gp6aFnLQiFoh"
      },
      "execution_count": null,
      "outputs": []
    },
    {
      "cell_type": "markdown",
      "source": [],
      "metadata": {
        "id": "6VTw4RMjb2YY"
      }
    },
    {
      "cell_type": "code",
      "source": [
        "food_tokenList = tokenize(food_comment['comment'][food_idx].to_list(),most_words_500_dic)\n",
        "travel_tokenList = tokenize(travel_comment['comment'][travel_idx].to_list(),most_words_500_dic)"
      ],
      "metadata": {
        "id": "IepVdEz36zru"
      },
      "execution_count": null,
      "outputs": []
    },
    {
      "cell_type": "code",
      "source": [
        "all_travel_tokenList = tokenize(travel_comment['comment'][travel_notNullidx].to_list(), most_words_500_dic)\n",
        "all_food_tokenList = tokenize(food_comment['comment'][food_notNullidx].to_list(), most_words_500_dic)"
      ],
      "metadata": {
        "id": "EiRpEyhnex9G"
      },
      "execution_count": null,
      "outputs": []
    },
    {
      "cell_type": "code",
      "source": [
        "food_result = model.predict(food_tokenList)\n",
        "travel_result = model.predict(travel_tokenList)\n",
        "all_travel_result = model.predict(all_travel_tokenList)\n",
        "all_food_result = model.predict(all_food_tokenList)"
      ],
      "metadata": {
        "id": "o-ElCANFjqah"
      },
      "execution_count": null,
      "outputs": []
    },
    {
      "cell_type": "code",
      "source": [
        "revfood_result = [i[0] for i in food_result]\n",
        "revtravel_result = [i[0] for i in travel_result]\n",
        "all_travel_result = [i[0] for i in all_travel_result]\n",
        "all_food_result = [i[0] for i in all_food_result]\n"
      ],
      "metadata": {
        "id": "uQud7nAftftS"
      },
      "execution_count": null,
      "outputs": []
    },
    {
      "cell_type": "code",
      "source": [
        "food_data = {'place' : food_comment['place_name'][food_idx].to_list(),\n",
        "        'rating' : food_comment['rating'][food_idx].to_list(),\n",
        "        'comment_sentimentAnalysis' : revfood_result\n",
        "        }\n",
        "df = pd.DataFrame(food_data)\n",
        "df.to_csv(\"/content/drive/MyDrive/data/food_comment_sentimentAnalysis.csv\", index=False)\n",
        "\n",
        "travel_data = {'place' : travel_comment['place_name'][travel_idx].to_list(),\n",
        "        'rating' : travel_comment['rating'][travel_idx].to_list(),\n",
        "        'comment_sentimentAnalysis' : revtravel_result\n",
        "        }\n",
        "df = pd.DataFrame(travel_data)\n",
        "df.to_csv(\"/content/drive/MyDrive/data/travel_comment_sentimentAnalysis.csv\", index=False)\n",
        "\n",
        "all_travel_data = {'place' : travel_comment['place_name'][travel_notNullidx].to_list(),\n",
        "        'rating' : travel_comment['rating'][travel_notNullidx].to_list(),\n",
        "        'comment_sentimentAnalysis' : all_travel_result\n",
        "        }\n",
        "df = pd.DataFrame(all_travel_data)\n",
        "df.to_csv(\"/content/drive/MyDrive/data/all_travel_comment_sentimentAnalysis.csv\", index=False)\n",
        "\n",
        "\n",
        "\n",
        "all_food_data = {'place' : food_comment['place_name'][food_notNullidx].to_list(),\n",
        "        'rating' : food_comment['rating'][food_notNullidx].to_list(),\n",
        "        'comment_sentimentAnalysis' : all_food_result\n",
        "        }\n",
        "df = pd.DataFrame(all_food_data)\n",
        "df.to_csv(\"/content/drive/MyDrive/data/all_food_comment_sentimentAnalysis.csv\", index=False)\n",
        "\n"
      ],
      "metadata": {
        "id": "IGHh1XqfEOta"
      },
      "execution_count": null,
      "outputs": []
    },
    {
      "cell_type": "code",
      "source": [
        "food_sentiAnal = pd.read_csv(\"/content/drive/MyDrive/data/food_comment_sentimentAnalysis.csv\")\n",
        "food_place = food_sentiAnal['place'].unique()\n",
        "\n",
        "travel_sentiAnal = pd.read_csv(\"/content/drive/MyDrive/data/travel_comment_sentimentAnalysis.csv\")\n",
        "travel_place = travel_sentiAnal['place'].unique()\n",
        "\n",
        "all_travel_sentiAnal = pd.read_csv(\"/content/drive/MyDrive/data/all_travel_comment_sentimentAnalysis.csv\")\n",
        "all_travel_place = all_travel_sentiAnal['place'].unique()\n",
        "\n",
        "all_food_sentiAnal = pd.read_csv(\"/content/drive/MyDrive/data/all_food_comment_sentimentAnalysis.csv\")\n",
        "all_food_place = all_food_sentiAnal['place'].unique()\n"
      ],
      "metadata": {
        "id": "AZYi7Vu0LvI4"
      },
      "execution_count": null,
      "outputs": []
    },
    {
      "cell_type": "code",
      "source": [
        "food_score_list = []\n",
        "travel_score_list = []\n",
        "all_travel_score_list = []\n",
        "all_food_score_list = []\n",
        "\n",
        "for i in range(len(food_place)):\n",
        "  condition = (food_sentiAnal.place == food_place[i])\n",
        "  score = 0\n",
        "  for j in range(len(food_sentiAnal[condition])):\n",
        "    score += food_sentiAnal[condition]['rating'].to_list()[j] * food_sentiAnal[condition]['comment_sentimentAnalysis'].to_list()[j]\n",
        "  food_score_list.append(score)\n",
        "\n",
        "\n",
        "for i in range(len(travel_place)):\n",
        "  condition = (travel_sentiAnal.place == travel_place[i])\n",
        "  score = 0\n",
        "  for j in range(len(travel_sentiAnal[condition])):\n",
        "    score += travel_sentiAnal[condition]['rating'].to_list()[j] * travel_sentiAnal[condition]['comment_sentimentAnalysis'].to_list()[j]\n",
        "  travel_score_list.append(score)\n",
        "\n",
        "for i in range(len(all_travel_place)):\n",
        "  condition = (all_travel_sentiAnal.place == all_travel_place[i])\n",
        "  score = 0\n",
        "  for j in range(len(all_travel_sentiAnal[condition])):\n",
        "    score += all_travel_sentiAnal[condition]['rating'].to_list()[j] * all_travel_sentiAnal[condition]['comment_sentimentAnalysis'].to_list()[j]\n",
        "  all_travel_score_list.append(score)\n",
        "\n",
        "for i in range(len(all_food_place)):\n",
        "  condition = (all_food_sentiAnal.place == all_food_place[i])\n",
        "  score = 0\n",
        "  for j in range(len(all_food_sentiAnal[condition])):\n",
        "    score += all_food_sentiAnal[condition]['rating'].to_list()[j] * all_food_sentiAnal[condition]['comment_sentimentAnalysis'].to_list()[j]\n",
        "  all_food_score_list.append(score)\n",
        "\n",
        "\n",
        "\n",
        "\n",
        "bonus = max(food_score_list)\n",
        "for i in range(len(travel_score_list)):\n",
        "  travel_score_list[i] += bonus\n",
        "  \n",
        "for i in range(len(all_travel_score_list)):\n",
        "  all_travel_score_list[i] += bonus\n",
        "  \n",
        "\n"
      ],
      "metadata": {
        "id": "-wQoC3FOPcdx"
      },
      "execution_count": null,
      "outputs": []
    },
    {
      "cell_type": "code",
      "source": [
        "food_score_list_pd = {'place' : food_place,\n",
        "                  'score' : food_score_list}\n",
        "food_score_list_pd = pd.DataFrame(food_score_list_pd)\n",
        "food_score_list_pd.to_csv(\"/content/drive/MyDrive/data/food_score_list.csv\", index=False)\n",
        "food_score_list_pd.to_excel(\"/content/drive/MyDrive/data/food_score_list.xlsx\", index=False)\n",
        "\n",
        "travel_score_list_pd = {'place' : travel_place,\n",
        "                  'score' : travel_score_list}\n",
        "travel_score_list_pd = pd.DataFrame(travel_score_list_pd)\n",
        "travel_score_list_pd.to_csv(\"/content/drive/MyDrive/data/travel_score_list.csv\", index=False)\n",
        "travel_score_list_pd.to_excel(\"/content/drive/MyDrive/data/travel_score_list.xlsx\", index=False)\n",
        "\n",
        "\n",
        "all_travel_score_list_pd = {'place' : all_travel_place,\n",
        "                  'score' : all_travel_score_list}\n",
        "all_travel_score_list_pd = pd.DataFrame(all_travel_score_list_pd)\n",
        "all_travel_score_list_pd.to_csv(\"/content/drive/MyDrive/data/all_travel_score_list.csv\", index=False)\n",
        "all_travel_score_list_pd.to_excel(\"/content/drive/MyDrive/data/all_travel_score_list.xlsx\", index=False)\n",
        "\n",
        "\n",
        "all_food_score_list_pd = {'place' : all_food_place,\n",
        "                  'score' : all_food_score_list}\n",
        "all_food_score_list_pd = pd.DataFrame(all_food_score_list_pd)\n",
        "all_food_score_list_pd.to_csv(\"/content/drive/MyDrive/data/all_food_score_list.csv\", index=False)\n",
        "all_food_score_list_pd.to_excel(\"/content/drive/MyDrive/data/all_food_score_list.xlsx\", index=False)"
      ],
      "metadata": {
        "id": "LVD7TaO5eDgx"
      },
      "execution_count": null,
      "outputs": []
    },
    {
      "cell_type": "code",
      "source": [
        "food_idx = food_score_list_pd.score.nlargest(10).index\n",
        "\n",
        "food_recommend_list_pd = {'place' : food_score_list_pd['place'][food_idx],\n",
        "                  'score' : food_score_list_pd['score'][food_idx]}\n",
        "\n",
        "food_recommend_list = pd.DataFrame(food_recommend_list_pd)\n",
        "food_recommend_list.to_excel(\"/content/drive/MyDrive/data/food_recommend_list.xlsx\", index=False)\n",
        "\n",
        "\n",
        "travel_idx = travel_score_list_pd.score.nlargest(10).index\n",
        "\n",
        "travel_recommend_list_pd = {'place' : travel_score_list_pd['place'][travel_idx],\n",
        "                  'score' : travel_score_list_pd['score'][travel_idx]}\n",
        "\n",
        "travel_recommend_list = pd.DataFrame(travel_recommend_list_pd)\n",
        "travel_recommend_list.to_excel(\"/content/drive/MyDrive/data/travel_recommend_list.xlsx\", index=False)"
      ],
      "metadata": {
        "id": "xpRoXhsnfZMc"
      },
      "execution_count": null,
      "outputs": []
    },
    {
      "cell_type": "code",
      "source": [
        "x = travel_score_list_pd['place'][travel_idx]\n",
        "y = travel_score_list_pd['score'][travel_idx]\n",
        "plt.plot(x,y)\n",
        "plt.xlabel('장소')\n",
        "plt.ylabel('점수')\n",
        "plt.title('장소별 점수')\n",
        "plt.xticks(rotation=60)\n",
        "plt.show()\n",
        "\n",
        "x = food_score_list_pd['place'][food_idx]\n",
        "y = food_score_list_pd['score'][food_idx]\n",
        "plt.plot(x,y)\n",
        "plt.xlabel('장소')\n",
        "plt.ylabel('점수')\n",
        "plt.title('장소별 점수')\n",
        "plt.xticks(rotation=60)\n",
        "plt.show()"
      ],
      "metadata": {
        "id": "Wt7CdZZlvsOX",
        "colab": {
          "base_uri": "https://localhost:8080/",
          "height": 599
        },
        "outputId": "f91a4b03-8179-44d4-a2f6-c4425b2167cb"
      },
      "execution_count": null,
      "outputs": [
        {
          "output_type": "display_data",
          "data": {
            "text/plain": [
              "<Figure size 432x288 with 1 Axes>"
            ],
            "image/png": "[encoded data removed]"
          },
          "metadata": {
            "needs_background": "light"
          }
        },
        {
          "output_type": "display_data",
          "data": {
            "text/plain": [
              "<Figure size 432x288 with 1 Axes>"
            ],
            "image/png": "[encoded data removed]"
          },
          "metadata": {
            "needs_background": "light"
          }
        }
      ]
    },
    {
      "cell_type": "code",
      "source": [
        "\n",
        "# bonus = max(food_score_list)\n",
        "# for i in range(len(travel_score_list)):\n",
        "#   travel_score_list[i] += bonus\n",
        "  \n",
        "# for i in range(len(all_travel_score_list)):\n",
        "#   all_travel_score_list[i] += bonus\n",
        "\n",
        "\n",
        "food_score_list_pd = {'place' : food_place,\n",
        "                  'score' : food_score_list}\n",
        "food_score_list_pd = pd.DataFrame(food_score_list_pd)\n",
        "food_score_list_pd.to_csv(\"/content/drive/MyDrive/data/food_score_list.csv\", index=False)\n",
        "food_score_list_pd.to_excel(\"/content/drive/MyDrive/data/food_score_list.xlsx\", index=False)\n",
        "\n",
        "travel_score_list_pd = {'place' : travel_place,\n",
        "                  'score' : travel_score_list}\n",
        "travel_score_list_pd = pd.DataFrame(travel_score_list_pd)\n",
        "travel_score_list_pd.to_csv(\"/content/drive/MyDrive/data/travel_score_list.csv\", index=False)\n",
        "travel_score_list_pd.to_excel(\"/content/drive/MyDrive/data/travel_score_list.xlsx\", index=False)\n",
        "\n",
        "\n",
        "all_travel_score_list_pd = {'place' : all_travel_place,\n",
        "                  'score' : all_travel_score_list}\n",
        "all_travel_score_list_pd = pd.DataFrame(all_travel_score_list_pd)\n",
        "all_travel_score_list_pd.to_csv(\"/content/drive/MyDrive/data/all_travel_score_list.csv\", index=False)\n",
        "all_travel_score_list_pd.to_excel(\"/content/drive/MyDrive/data/all_travel_score_list.xlsx\", index=False)\n",
        "\n",
        "\n",
        "all_food_score_list_pd = {'place' : all_food_place,\n",
        "                  'score' : all_food_score_list}\n",
        "all_food_score_list_pd = pd.DataFrame(all_food_score_list_pd)\n",
        "all_food_score_list_pd.to_csv(\"/content/drive/MyDrive/data/all_food_score_list.csv\", index=False)\n",
        "all_food_score_list_pd.to_excel(\"/content/drive/MyDrive/data/all_food_score_list.xlsx\", index=False)"
      ],
      "metadata": {
        "id": "7TQdXnIU-H4d"
      },
      "execution_count": null,
      "outputs": []
    }
  ]
}