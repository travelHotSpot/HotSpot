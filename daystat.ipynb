{
  "nbformat": 4,
  "nbformat_minor": 0,
  "metadata": {
    "colab": {
      "provenance": [],
      "authorship_tag": "ABX9TyPkGBctDzPJr89y/y64gws4",
      "include_colab_link": true
    },
    "kernelspec": {
      "name": "python3",
      "display_name": "Python 3"
    },
    "language_info": {
      "name": "python"
    }
  },
  "cells": [
    {
      "cell_type": "markdown",
      "metadata": {
        "id": "view-in-github",
        "colab_type": "text"
      },
      "source": [
        "<a href=\"https://colab.research.google.com/github/travelHotSpot/HotSpot/blob/daystat/daystat.ipynb\" target=\"_parent\"><img src=\"https://colab.research.google.com/assets/colab-badge.svg\" alt=\"Open In Colab\"/></a>"
      ]
    },
    {
      "cell_type": "code",
      "execution_count": null,
      "metadata": {
        "colab": {
          "base_uri": "https://localhost:8080/"
        },
        "id": "g3dZvJfWQr0z",
        "outputId": "778f5091-3246-4e2a-9914-67761d8083ab"
      },
      "outputs": [
        {
          "output_type": "stream",
          "name": "stdout",
          "text": [
            "Selecting previously unselected package fonts-nanum.\n",
            "(Reading database ... 155569 files and directories currently installed.)\n",
            "Preparing to unpack .../fonts-nanum_20170925-1_all.deb ...\n",
            "Unpacking fonts-nanum (20170925-1) ...\n",
            "Selecting previously unselected package fonts-nanum-eco.\n",
            "Preparing to unpack .../fonts-nanum-eco_1.000-6_all.deb ...\n",
            "Unpacking fonts-nanum-eco (1.000-6) ...\n",
            "Selecting previously unselected package fonts-nanum-extra.\n",
            "Preparing to unpack .../fonts-nanum-extra_20170925-1_all.deb ...\n",
            "Unpacking fonts-nanum-extra (20170925-1) ...\n",
            "Selecting previously unselected package fonts-nanum-coding.\n",
            "Preparing to unpack .../fonts-nanum-coding_2.5-1_all.deb ...\n",
            "Unpacking fonts-nanum-coding (2.5-1) ...\n",
            "Setting up fonts-nanum-extra (20170925-1) ...\n",
            "Setting up fonts-nanum (20170925-1) ...\n",
            "Setting up fonts-nanum-coding (2.5-1) ...\n",
            "Setting up fonts-nanum-eco (1.000-6) ...\n",
            "Processing triggers for fontconfig (2.12.6-0ubuntu2) ...\n",
            "NanumBarunGothic\n"
          ]
        }
      ],
      "source": [
        "%matplotlib inline  \n",
        "\n",
        "import matplotlib as mpl \n",
        "import matplotlib.pyplot as plt \n",
        "import matplotlib.font_manager as fm  \n",
        "\n",
        "!apt-get update -qq\n",
        "!apt-get install fonts-nanum* -qq\n",
        "\n",
        "path = '/usr/share/fonts/truetype/nanum/NanumBarunGothic.ttf' \n",
        "font_name = fm.FontProperties(fname=path, size=10).get_name()\n",
        "print(font_name)\n",
        "plt.rc('font', family=font_name)\n",
        "\n",
        "fm._rebuild()\n",
        "mpl.rcParams['axes.unicode_minus'] = False\n",
        "#런타임 다시 실행"
      ]
    },
    {
      "cell_type": "code",
      "source": [
        "from google.colab import drive\n",
        "drive.mount('/content/drive')"
      ],
      "metadata": {
        "colab": {
          "base_uri": "https://localhost:8080/"
        },
        "id": "6E7qNWZaQzP_",
        "outputId": "fefd6e1a-6eb3-469b-ae44-d2163a22c693"
      },
      "execution_count": null,
      "outputs": [
        {
          "output_type": "stream",
          "name": "stdout",
          "text": [
            "Mounted at /content/drive\n"
          ]
        }
      ]
    },
    {
      "cell_type": "code",
      "source": [
        "import pandas as pd\n",
        "import numpy as np\n",
        "from dateutil.parser import parse\n",
        "from dateutil.relativedelta import relativedelta\n",
        "import datetime as dt\n",
        "from collections import Counter"
      ],
      "metadata": {
        "id": "JykMjaklRIvH"
      },
      "execution_count": null,
      "outputs": []
    },
    {
      "cell_type": "code",
      "source": [
        "comment = pd.read_csv('/content/drive/MyDrive/data/comment.csv') # 음식점에 대한 댓글 정보"
      ],
      "metadata": {
        "id": "iunleqoaTXM2"
      },
      "execution_count": null,
      "outputs": []
    },
    {
      "cell_type": "code",
      "source": [
        "now = dt.datetime.now()\n",
        "\n",
        "startMonth = now.month -3\n",
        "endMonth = now.month\n",
        "year = str(now.year)\n",
        "\n",
        "\n",
        "if startMonth < 10:\n",
        "  startMonth = '0'+ str(startMonth)\n",
        "\n",
        "\n",
        "if endMonth < 10:\n",
        "  endMonth = '0'+ str(endMonth)\n"
      ],
      "metadata": {
        "id": "zJnVaBCrQ_wI"
      },
      "execution_count": null,
      "outputs": []
    },
    {
      "cell_type": "code",
      "source": [
        "date = '2016-04-16'\n",
        "\n",
        "print(parse(date).weekday())"
      ],
      "metadata": {
        "colab": {
          "base_uri": "https://localhost:8080/"
        },
        "id": "OmNPx-hWQ8Sp",
        "outputId": "033feca2-8176-4b20-8c00-649b3132e5ef"
      },
      "execution_count": null,
      "outputs": [
        {
          "output_type": "stream",
          "name": "stdout",
          "text": [
            "5\n"
          ]
        }
      ]
    },
    {
      "cell_type": "code",
      "source": [
        "weekdayList = []\n",
        "search_idx = []\n",
        "comment_notNullidx = comment[pd.notnull(comment['comment'])].index\n",
        "comment_datelist = comment['created_at'].to_list()\n",
        "for i in range(len(comment_datelist)):\n",
        "  date = comment_datelist[i].split('.')\n",
        "  if date[0] == year and  startMonth <= date[1] <= endMonth and i in comment_notNullidx:\n",
        "    search_idx.append(i)\n",
        "\n",
        "\n",
        "for i in search_idx:\n",
        "  weekdayList.append(parse(comment['created_at'][i]).weekday()) # {0:월, 1:화, 2:수, 3:목, 4:금, 5:토, 6:일}"
      ],
      "metadata": {
        "id": "mVgiezACa6tD"
      },
      "execution_count": null,
      "outputs": []
    },
    {
      "cell_type": "code",
      "source": [
        "weekdayCount = sorted(dict(Counter(weekdayList)).items())\n",
        "\n"
      ],
      "metadata": {
        "colab": {
          "base_uri": "https://localhost:8080/"
        },
        "id": "JXBDp4P58rRo",
        "outputId": "3bc1f6c5-042f-4432-b986-6905038bf87e"
      },
      "execution_count": null,
      "outputs": [
        {
          "output_type": "stream",
          "name": "stdout",
          "text": [
            "[(0, 2134), (1, 1920), (2, 1934), (3, 2049), (4, 2042), (5, 2334), (6, 2513)]\n"
          ]
        }
      ]
    }
  ]
}